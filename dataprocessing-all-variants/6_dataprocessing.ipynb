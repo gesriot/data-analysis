{
 "cells": [
  {
   "cell_type": "code",
   "execution_count": null,
   "id": "0c86f416",
   "metadata": {},
   "outputs": [],
   "source": [
    "import os\n",
    "import numpy as np\n",
    "import pandas as pd\n",
    "\n",
    "def get_weights(path, circle, type, holder):\n",
    "    data = pd.read_csv(f'{path}\\circle{circle}.txt', header=None)\n",
    "\n",
    "    type_col = data[3]\n",
    "    weight_col = 4\n",
    "    holder_col = data[5].astype(int)\n",
    "    \n",
    "    filtered_data = data[(type_col == type) & (holder_col == holder)]\n",
    "\n",
    "    return np.array(filtered_data[weight_col])*2.0\n",
    "\n",
    "def get_weights_filtered(path, circle, type, holder, window_size=2):\n",
    "    data = pd.read_csv(f'{path}\\circle{circle}.txt', header=None)    \n",
    "\n",
    "    type_col = data[3]\n",
    "    weight_col = 4\n",
    "    holder_col = data[5].astype(int)\n",
    "    \n",
    "    filtered_data = data[(type_col == type) & (holder_col == holder)]\n",
    "    \n",
    "    weights = np.array(filtered_data[weight_col])\n",
    "    \n",
    "    # Фильтрация шума с использованием скользящего среднего\n",
    "    if len(weights) >= window_size:\n",
    "        filtered_weights = np.convolve(weights, np.ones(window_size), 'valid') / window_size\n",
    "    else:\n",
    "        filtered_weights = weights\n",
    "    \n",
    "    return filtered_weights*2.0\n",
    "\n",
    "def calculate_weights(path, type):\n",
    "    dfs = []\n",
    "\n",
    "    for circle in range(2, 32):\n",
    "        data = []\n",
    "        \n",
    "        for holder in range(368):\n",
    "            mean_weight = get_weights_filtered(path, circle=circle, type=type, holder=holder).mean()\n",
    "            \n",
    "            data.append({\"Holder\": holder, f\"circle{circle}\": mean_weight})\n",
    "\n",
    "        dfs.append(pd.DataFrame(data))\n",
    "\n",
    "    df = pd.concat(dfs, axis=1)\n",
    "\n",
    "    # Удаляем дубликаты столбцов \"Holder\"\n",
    "    df = df.loc[:,~df.columns.duplicated()]\n",
    "\n",
    "    # Добавляем новые индексы в DataFrame\n",
    "    for index in [\"среднее\", \"σ\"] + [f\"Δ{i}\" for i in range(2, 32)] + [\">2σ\", \">3σ\"]:\n",
    "        df[index] = \"\"\n",
    "\n",
    "    file_path = os.path.join(path, f'weights_{type}.xlsx')\n",
    "\n",
    "    df.to_excel(file_path, index=False)"
   ]
  },
  {
   "cell_type": "code",
   "execution_count": null,
   "id": "c8297684-4b37-4742-8ede-f5f5559bcc6a",
   "metadata": {},
   "outputs": [],
   "source": [
    "%%time\n",
    "calculate_weights(\"без 0.1 смещений\\offset=0.1_discard=1\", \"B\")"
   ]
  },
  {
   "cell_type": "code",
   "execution_count": null,
   "id": "fca98cb2-e81d-40fa-914c-6b38d0087005",
   "metadata": {},
   "outputs": [],
   "source": []
  }
 ],
 "metadata": {
  "kernelspec": {
   "display_name": "Python 3 (ipykernel)",
   "language": "python",
   "name": "python3"
  },
  "language_info": {
   "codemirror_mode": {
    "name": "ipython",
    "version": 3
   },
   "file_extension": ".py",
   "mimetype": "text/x-python",
   "name": "python",
   "nbconvert_exporter": "python",
   "pygments_lexer": "ipython3",
   "version": "3.12.0"
  }
 },
 "nbformat": 4,
 "nbformat_minor": 5
}
