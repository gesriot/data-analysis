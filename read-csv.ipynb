{
 "cells": [
  {
   "cell_type": "code",
   "execution_count": 12,
   "id": "620b1232-e00e-40a3-81b7-4e554005446c",
   "metadata": {},
   "outputs": [],
   "source": [
    ":dep polars = \"0.35.4\"\n",
    "\n",
    "use polars::prelude::*;\n",
    "\n",
    "fn read_csv(file_name: &str) -> Result<DataFrame, Box<dyn std::error::Error>> {\n",
    "    let file = std::fs::File::open(file_name);\n",
    "    match file {\n",
    "        Ok(file) => {\n",
    "            let mut df = CsvReader::new(file)\n",
    "                .infer_schema(Some(100))\n",
    "                .has_header(false)\n",
    "                .finish()?;\n",
    "            df = df.rename(\"column_1\", \"time\")?.clone()\n",
    "                .rename(\"column_2\", \"scale_id\")?.clone()\n",
    "                .rename(\"column_3\", \"raw\")?.clone()\n",
    "                .rename(\"column_4\", \"_\")?.clone()\n",
    "                .rename(\"column_5\", \"weight\")?.clone()\n",
    "                .rename(\"column_6\", \"encoder\")?.clone();\n",
    "            Ok(df)\n",
    "        },\n",
    "        Err(e) => Err(Box::new(e)),\n",
    "    }\n",
    "}"
   ]
  },
  {
   "cell_type": "code",
   "execution_count": 13,
   "id": "34befcae-543e-4070-9023-f8d35fa9c961",
   "metadata": {},
   "outputs": [
    {
     "name": "stdout",
     "output_type": "stream",
     "text": [
      "shape: (56_213, 6)\n",
      "┌────────────────┬──────────┬────────┬─────┬────────┬─────────┐\n",
      "│ time           ┆ scale_id ┆ raw    ┆ _   ┆ weight ┆ encoder │\n",
      "│ ---            ┆ ---      ┆ ---    ┆ --- ┆ ---    ┆ ---     │\n",
      "│ i64            ┆ i64      ┆ f64    ┆ str ┆ f64    ┆ f64     │\n",
      "╞════════════════╪══════════╪════════╪═════╪════════╪═════════╡\n",
      "│ 63836179553062 ┆ 3        ┆ 0.2595 ┆ B   ┆ 0.57   ┆ 318.2   │\n",
      "│ 63836179553069 ┆ 2        ┆ 0.1062 ┆ A   ┆ 28.11  ┆ 318.2   │\n",
      "│ 63836179553078 ┆ 4        ┆ 0.1499 ┆ B   ┆ 0.32   ┆ 318.3   │\n",
      "│ 63836179553085 ┆ 1        ┆ 0.1724 ┆ A   ┆ 17.11  ┆ 318.4   │\n",
      "│ …              ┆ …        ┆ …      ┆ …   ┆ …      ┆ …       │\n",
      "│ 63836180002112 ┆ 3        ┆ 0.2026 ┆ B   ┆ 0.49   ┆ 240.5   │\n",
      "│ 63836180002116 ┆ 1        ┆ 0.1637 ┆ A   ┆ 5.13   ┆ 240.5   │\n",
      "│ 63836180002128 ┆ 4        ┆ 0.1138 ┆ B   ┆ 0.27   ┆ 240.6   │\n",
      "│ 63836180002132 ┆ 2        ┆ 0.088  ┆ A   ┆ 3.59   ┆ 240.6   │\n",
      "└────────────────┴──────────┴────────┴─────┴────────┴─────────┘\n"
     ]
    }
   ],
   "source": [
    "let file_name = \"2023.11.21__16_05_53.csv\";\n",
    "\n",
    "match read_csv(file_name) {\n",
    "    Ok(df) => println!(\"{:?}\", df),\n",
    "    Err(e) => eprintln!(\"Error reading CSV: {}\", e),\n",
    "};"
   ]
  },
  {
   "cell_type": "code",
   "execution_count": 14,
   "id": "4e1e4770-32ff-4f75-b04f-c059ef763d53",
   "metadata": {},
   "outputs": [],
   "source": [
    "fn read_csv(file_name: &str) -> Result<DataFrame, Box<dyn std::error::Error>> {\n",
    "    let file = std::fs::File::open(file_name);\n",
    "    match file {\n",
    "        Ok(file) => {\n",
    "            let mut df = CsvReader::new(file)\n",
    "                .infer_schema(Some(100))\n",
    "                .has_header(false)\n",
    "                .finish()?;\n",
    "            df = df.rename(\"column_1\", \"time\")?.clone()\n",
    "                .rename(\"column_2\", \"scale_id\")?.clone()\n",
    "                .rename(\"column_3\", \"raw\")?.clone()\n",
    "                .rename(\"column_4\", \"_\")?.clone()\n",
    "                .rename(\"column_5\", \"weight\")?.clone()\n",
    "                .rename(\"column_6\", \"encoder\")?.clone();\n",
    "            let scale_id = df.column(\"scale_id\")?.cast(&DataType::UInt32)?;\n",
    "            df = df.with_column(scale_id)?.clone();\n",
    "            let mut circle = 0;\n",
    "            let mut last_encoder = 0.0;\n",
    "            let circles: Vec<u32> = df.column(\"encoder\")?.f64()?\n",
    "                .into_iter()\n",
    "                .map(|encoder| {\n",
    "                    if let Some(encoder) = encoder {\n",
    "                        if encoder < last_encoder {\n",
    "                            circle += 1;\n",
    "                        }\n",
    "                        last_encoder = encoder;\n",
    "                    }\n",
    "                    circle\n",
    "                })\n",
    "                .map(|x| x as u32)\n",
    "                .collect();\n",
    "            let circle_series = Series::new(\"circle\", circles);\n",
    "            df = df.with_column(circle_series)?.clone();\n",
    "            Ok(df)\n",
    "        },\n",
    "        Err(e) => Err(Box::new(e)),\n",
    "    }\n",
    "}"
   ]
  },
  {
   "cell_type": "code",
   "execution_count": 15,
   "id": "2c923078-be56-46c7-95e9-4c05b0ce6032",
   "metadata": {},
   "outputs": [
    {
     "name": "stdout",
     "output_type": "stream",
     "text": [
      "shape: (56_213, 7)\n",
      "┌────────────────┬──────────┬────────┬─────┬────────┬─────────┬────────┐\n",
      "│ time           ┆ scale_id ┆ raw    ┆ _   ┆ weight ┆ encoder ┆ circle │\n",
      "│ ---            ┆ ---      ┆ ---    ┆ --- ┆ ---    ┆ ---     ┆ ---    │\n",
      "│ i64            ┆ u32      ┆ f64    ┆ str ┆ f64    ┆ f64     ┆ u32    │\n",
      "╞════════════════╪══════════╪════════╪═════╪════════╪═════════╪════════╡\n",
      "│ 63836179553062 ┆ 3        ┆ 0.2595 ┆ B   ┆ 0.57   ┆ 318.2   ┆ 0      │\n",
      "│ 63836179553069 ┆ 2        ┆ 0.1062 ┆ A   ┆ 28.11  ┆ 318.2   ┆ 0      │\n",
      "│ 63836179553078 ┆ 4        ┆ 0.1499 ┆ B   ┆ 0.32   ┆ 318.3   ┆ 0      │\n",
      "│ 63836179553085 ┆ 1        ┆ 0.1724 ┆ A   ┆ 17.11  ┆ 318.4   ┆ 0      │\n",
      "│ …              ┆ …        ┆ …      ┆ …   ┆ …      ┆ …       ┆ …      │\n",
      "│ 63836180002112 ┆ 3        ┆ 0.2026 ┆ B   ┆ 0.49   ┆ 240.5   ┆ 11     │\n",
      "│ 63836180002116 ┆ 1        ┆ 0.1637 ┆ A   ┆ 5.13   ┆ 240.5   ┆ 11     │\n",
      "│ 63836180002128 ┆ 4        ┆ 0.1138 ┆ B   ┆ 0.27   ┆ 240.6   ┆ 11     │\n",
      "│ 63836180002132 ┆ 2        ┆ 0.088  ┆ A   ┆ 3.59   ┆ 240.6   ┆ 11     │\n",
      "└────────────────┴──────────┴────────┴─────┴────────┴─────────┴────────┘\n"
     ]
    }
   ],
   "source": [
    "let file_name = \"2023.11.21__16_05_53.csv\";\n",
    "\n",
    "match read_csv(file_name) {\n",
    "    Ok(df) => println!(\"{:?}\", df),\n",
    "    Err(e) => eprintln!(\"Error reading CSV: {}\", e),\n",
    "};"
   ]
  },
  {
   "cell_type": "code",
   "execution_count": null,
   "id": "a66eaa64-b574-4252-9c50-c7c37f3d68f1",
   "metadata": {},
   "outputs": [],
   "source": []
  }
 ],
 "metadata": {
  "kernelspec": {
   "display_name": "Rust",
   "language": "rust",
   "name": "rust"
  },
  "language_info": {
   "codemirror_mode": "rust",
   "file_extension": ".rs",
   "mimetype": "text/rust",
   "name": "Rust",
   "pygment_lexer": "rust",
   "version": ""
  }
 },
 "nbformat": 4,
 "nbformat_minor": 5
}
